{
 "cells": [
  {
   "cell_type": "code",
   "execution_count": 1,
   "id": "8baa7d7f",
   "metadata": {},
   "outputs": [],
   "source": [
    "# Importando bibliotecas\n",
    "import pandas as pd\n",
    "import seaborn as sns\n",
    "import statistics as sts\n",
    "import matplotlib.pyplot as plt\n",
    "import numpy as np"
   ]
  },
  {
   "cell_type": "code",
   "execution_count": 30,
   "id": "68af22e3",
   "metadata": {},
   "outputs": [
    {
     "data": {
      "text/html": [
       "<div>\n",
       "<style scoped>\n",
       "    .dataframe tbody tr th:only-of-type {\n",
       "        vertical-align: middle;\n",
       "    }\n",
       "\n",
       "    .dataframe tbody tr th {\n",
       "        vertical-align: top;\n",
       "    }\n",
       "\n",
       "    .dataframe thead th {\n",
       "        text-align: right;\n",
       "    }\n",
       "</style>\n",
       "<table border=\"1\" class=\"dataframe\">\n",
       "  <thead>\n",
       "    <tr style=\"text-align: right;\">\n",
       "      <th></th>\n",
       "      <th>Identificador do processo de viagem</th>\n",
       "      <th>Número da Proposta (PCDP)</th>\n",
       "      <th>Meio de transporte</th>\n",
       "      <th>País - Origem ida</th>\n",
       "      <th>UF - Origem ida</th>\n",
       "      <th>Cidade - Origem ida</th>\n",
       "      <th>País - Destino ida</th>\n",
       "      <th>UF - Destino ida</th>\n",
       "      <th>Cidade - Destino ida</th>\n",
       "      <th>País - Origem volta</th>\n",
       "      <th>UF - Origem volta</th>\n",
       "      <th>Cidade - Origem volta</th>\n",
       "      <th>Pais - Destino volta</th>\n",
       "      <th>UF - Destino volta</th>\n",
       "      <th>Cidade - Destino volta</th>\n",
       "      <th>Valor da passagem</th>\n",
       "      <th>Taxa de serviço</th>\n",
       "      <th>Data da emissão/compra</th>\n",
       "      <th>Hora da emissão/compra</th>\n",
       "    </tr>\n",
       "  </thead>\n",
       "  <tbody>\n",
       "    <tr>\n",
       "      <th>0</th>\n",
       "      <td>17563956</td>\n",
       "      <td>000002/22-2C</td>\n",
       "      <td>Aéreo</td>\n",
       "      <td>Brasil</td>\n",
       "      <td>Paraná</td>\n",
       "      <td>Londrina</td>\n",
       "      <td>Brasil</td>\n",
       "      <td>Pernambuco</td>\n",
       "      <td>Fernando de Noronha</td>\n",
       "      <td>Sem Informação</td>\n",
       "      <td>Sem Informação</td>\n",
       "      <td>Sem Informação</td>\n",
       "      <td>Sem Informação</td>\n",
       "      <td>Sem Informação</td>\n",
       "      <td>Sem Informação</td>\n",
       "      <td>1144,24</td>\n",
       "      <td>0,00</td>\n",
       "      <td>20/12/2021</td>\n",
       "      <td>18:27</td>\n",
       "    </tr>\n",
       "    <tr>\n",
       "      <th>1</th>\n",
       "      <td>17563956</td>\n",
       "      <td>000002/22-2C</td>\n",
       "      <td>Aéreo</td>\n",
       "      <td>Brasil</td>\n",
       "      <td>Pernambuco</td>\n",
       "      <td>Fernando de Noronha</td>\n",
       "      <td>Brasil</td>\n",
       "      <td>Paraná</td>\n",
       "      <td>Londrina</td>\n",
       "      <td>Sem Informação</td>\n",
       "      <td>Sem Informação</td>\n",
       "      <td>Sem Informação</td>\n",
       "      <td>Sem Informação</td>\n",
       "      <td>Sem Informação</td>\n",
       "      <td>Sem Informação</td>\n",
       "      <td>1529,86</td>\n",
       "      <td>0,00</td>\n",
       "      <td>20/12/2021</td>\n",
       "      <td>18:27</td>\n",
       "    </tr>\n",
       "    <tr>\n",
       "      <th>2</th>\n",
       "      <td>17563956</td>\n",
       "      <td>000002/22-2C</td>\n",
       "      <td>Aéreo</td>\n",
       "      <td>Brasil</td>\n",
       "      <td>Pernambuco</td>\n",
       "      <td>Recife</td>\n",
       "      <td>Brasil</td>\n",
       "      <td>Pernambuco</td>\n",
       "      <td>Fernando de Noronha</td>\n",
       "      <td>Sem Informação</td>\n",
       "      <td>Sem Informação</td>\n",
       "      <td>Sem Informação</td>\n",
       "      <td>Sem Informação</td>\n",
       "      <td>Sem Informação</td>\n",
       "      <td>Sem Informação</td>\n",
       "      <td>1753,24</td>\n",
       "      <td>0,00</td>\n",
       "      <td>02/09/2021</td>\n",
       "      <td>11:01</td>\n",
       "    </tr>\n",
       "    <tr>\n",
       "      <th>3</th>\n",
       "      <td>17563956</td>\n",
       "      <td>000002/22-2C</td>\n",
       "      <td>Aéreo</td>\n",
       "      <td>Brasil</td>\n",
       "      <td>Pernambuco</td>\n",
       "      <td>Fernando de Noronha</td>\n",
       "      <td>Brasil</td>\n",
       "      <td>Pernambuco</td>\n",
       "      <td>Recife</td>\n",
       "      <td>Sem Informação</td>\n",
       "      <td>Sem Informação</td>\n",
       "      <td>Sem Informação</td>\n",
       "      <td>Sem Informação</td>\n",
       "      <td>Sem Informação</td>\n",
       "      <td>Sem Informação</td>\n",
       "      <td>2491,86</td>\n",
       "      <td>0,00</td>\n",
       "      <td>02/09/2021</td>\n",
       "      <td>11:01</td>\n",
       "    </tr>\n",
       "    <tr>\n",
       "      <th>4</th>\n",
       "      <td>17564009</td>\n",
       "      <td>000001/22-2C</td>\n",
       "      <td>Aéreo</td>\n",
       "      <td>Brasil</td>\n",
       "      <td>Pernambuco</td>\n",
       "      <td>Fernando de Noronha</td>\n",
       "      <td>Brasil</td>\n",
       "      <td>Pernambuco</td>\n",
       "      <td>Recife</td>\n",
       "      <td>Sem Informação</td>\n",
       "      <td>Sem Informação</td>\n",
       "      <td>Sem Informação</td>\n",
       "      <td>Sem Informação</td>\n",
       "      <td>Sem Informação</td>\n",
       "      <td>Sem Informação</td>\n",
       "      <td>2491,86</td>\n",
       "      <td>0,00</td>\n",
       "      <td>02/09/2021</td>\n",
       "      <td>10:58</td>\n",
       "    </tr>\n",
       "    <tr>\n",
       "      <th>...</th>\n",
       "      <td>...</td>\n",
       "      <td>...</td>\n",
       "      <td>...</td>\n",
       "      <td>...</td>\n",
       "      <td>...</td>\n",
       "      <td>...</td>\n",
       "      <td>...</td>\n",
       "      <td>...</td>\n",
       "      <td>...</td>\n",
       "      <td>...</td>\n",
       "      <td>...</td>\n",
       "      <td>...</td>\n",
       "      <td>...</td>\n",
       "      <td>...</td>\n",
       "      <td>...</td>\n",
       "      <td>...</td>\n",
       "      <td>...</td>\n",
       "      <td>...</td>\n",
       "      <td>...</td>\n",
       "    </tr>\n",
       "    <tr>\n",
       "      <th>272258</th>\n",
       "      <td>2022000982</td>\n",
       "      <td>Sem informação</td>\n",
       "      <td>Aéreo</td>\n",
       "      <td>Brasil</td>\n",
       "      <td>Distrito Federal</td>\n",
       "      <td>Brasília</td>\n",
       "      <td>Brasil</td>\n",
       "      <td>Rio de Janeiro</td>\n",
       "      <td>Rio de Janeiro</td>\n",
       "      <td>Sem Informação</td>\n",
       "      <td>Sem Informação</td>\n",
       "      <td>Sem Informação</td>\n",
       "      <td>Sem Informação</td>\n",
       "      <td>Sem Informação</td>\n",
       "      <td>Sem Informação</td>\n",
       "      <td>1589,46</td>\n",
       "      <td>0,00</td>\n",
       "      <td>NaN</td>\n",
       "      <td>00:00</td>\n",
       "    </tr>\n",
       "    <tr>\n",
       "      <th>272259</th>\n",
       "      <td>2022000985</td>\n",
       "      <td>Sem informação</td>\n",
       "      <td>Aéreo</td>\n",
       "      <td>Brasil</td>\n",
       "      <td>Rio de Janeiro</td>\n",
       "      <td>Rio de Janeiro</td>\n",
       "      <td>Brasil</td>\n",
       "      <td>São Paulo</td>\n",
       "      <td>São Paulo</td>\n",
       "      <td>Sem Informação</td>\n",
       "      <td>Sem Informação</td>\n",
       "      <td>Sem Informação</td>\n",
       "      <td>Sem Informação</td>\n",
       "      <td>Sem Informação</td>\n",
       "      <td>Sem Informação</td>\n",
       "      <td>2946,83</td>\n",
       "      <td>0,00</td>\n",
       "      <td>NaN</td>\n",
       "      <td>00:00</td>\n",
       "    </tr>\n",
       "    <tr>\n",
       "      <th>272260</th>\n",
       "      <td>2022000985</td>\n",
       "      <td>Sem informação</td>\n",
       "      <td>Aéreo</td>\n",
       "      <td>Brasil</td>\n",
       "      <td>São Paulo</td>\n",
       "      <td>São Paulo</td>\n",
       "      <td>Brasil</td>\n",
       "      <td>Rio de Janeiro</td>\n",
       "      <td>Rio de Janeiro</td>\n",
       "      <td>Sem Informação</td>\n",
       "      <td>Sem Informação</td>\n",
       "      <td>Sem Informação</td>\n",
       "      <td>Sem Informação</td>\n",
       "      <td>Sem Informação</td>\n",
       "      <td>Sem Informação</td>\n",
       "      <td>2946,83</td>\n",
       "      <td>0,00</td>\n",
       "      <td>NaN</td>\n",
       "      <td>00:00</td>\n",
       "    </tr>\n",
       "    <tr>\n",
       "      <th>272261</th>\n",
       "      <td>2022001063</td>\n",
       "      <td>Sem informação</td>\n",
       "      <td>Aéreo</td>\n",
       "      <td>Brasil</td>\n",
       "      <td>Distrito Federal</td>\n",
       "      <td>Brasília</td>\n",
       "      <td>Brasil</td>\n",
       "      <td>Minas Gerais</td>\n",
       "      <td>Belo Horizonte</td>\n",
       "      <td>Sem Informação</td>\n",
       "      <td>Sem Informação</td>\n",
       "      <td>Sem Informação</td>\n",
       "      <td>Sem Informação</td>\n",
       "      <td>Sem Informação</td>\n",
       "      <td>Sem Informação</td>\n",
       "      <td>539,46</td>\n",
       "      <td>0,00</td>\n",
       "      <td>NaN</td>\n",
       "      <td>00:00</td>\n",
       "    </tr>\n",
       "    <tr>\n",
       "      <th>272262</th>\n",
       "      <td>2022001063</td>\n",
       "      <td>Sem informação</td>\n",
       "      <td>Aéreo</td>\n",
       "      <td>Brasil</td>\n",
       "      <td>Minas Gerais</td>\n",
       "      <td>Belo Horizonte</td>\n",
       "      <td>Brasil</td>\n",
       "      <td>Distrito Federal</td>\n",
       "      <td>Brasília</td>\n",
       "      <td>Sem Informação</td>\n",
       "      <td>Sem Informação</td>\n",
       "      <td>Sem Informação</td>\n",
       "      <td>Sem Informação</td>\n",
       "      <td>Sem Informação</td>\n",
       "      <td>Sem Informação</td>\n",
       "      <td>1292,33</td>\n",
       "      <td>0,00</td>\n",
       "      <td>NaN</td>\n",
       "      <td>00:00</td>\n",
       "    </tr>\n",
       "  </tbody>\n",
       "</table>\n",
       "<p>272263 rows × 19 columns</p>\n",
       "</div>"
      ],
      "text/plain": [
       "        Identificador do processo de viagem Número da Proposta (PCDP)  \\\n",
       "0                                  17563956              000002/22-2C   \n",
       "1                                  17563956              000002/22-2C   \n",
       "2                                  17563956              000002/22-2C   \n",
       "3                                  17563956              000002/22-2C   \n",
       "4                                  17564009              000001/22-2C   \n",
       "...                                     ...                       ...   \n",
       "272258                           2022000982            Sem informação   \n",
       "272259                           2022000985            Sem informação   \n",
       "272260                           2022000985            Sem informação   \n",
       "272261                           2022001063            Sem informação   \n",
       "272262                           2022001063            Sem informação   \n",
       "\n",
       "       Meio de transporte País - Origem ida   UF - Origem ida  \\\n",
       "0                   Aéreo            Brasil            Paraná   \n",
       "1                   Aéreo            Brasil        Pernambuco   \n",
       "2                   Aéreo            Brasil        Pernambuco   \n",
       "3                   Aéreo            Brasil        Pernambuco   \n",
       "4                   Aéreo            Brasil        Pernambuco   \n",
       "...                   ...               ...               ...   \n",
       "272258              Aéreo            Brasil  Distrito Federal   \n",
       "272259              Aéreo            Brasil    Rio de Janeiro   \n",
       "272260              Aéreo            Brasil         São Paulo   \n",
       "272261              Aéreo            Brasil  Distrito Federal   \n",
       "272262              Aéreo            Brasil      Minas Gerais   \n",
       "\n",
       "        Cidade - Origem ida País - Destino ida  UF - Destino ida  \\\n",
       "0                  Londrina             Brasil        Pernambuco   \n",
       "1       Fernando de Noronha             Brasil            Paraná   \n",
       "2                    Recife             Brasil        Pernambuco   \n",
       "3       Fernando de Noronha             Brasil        Pernambuco   \n",
       "4       Fernando de Noronha             Brasil        Pernambuco   \n",
       "...                     ...                ...               ...   \n",
       "272258             Brasília             Brasil    Rio de Janeiro   \n",
       "272259       Rio de Janeiro             Brasil         São Paulo   \n",
       "272260            São Paulo             Brasil    Rio de Janeiro   \n",
       "272261             Brasília             Brasil      Minas Gerais   \n",
       "272262       Belo Horizonte             Brasil  Distrito Federal   \n",
       "\n",
       "       Cidade - Destino ida País - Origem volta UF - Origem volta  \\\n",
       "0       Fernando de Noronha      Sem Informação    Sem Informação   \n",
       "1                  Londrina      Sem Informação    Sem Informação   \n",
       "2       Fernando de Noronha      Sem Informação    Sem Informação   \n",
       "3                    Recife      Sem Informação    Sem Informação   \n",
       "4                    Recife      Sem Informação    Sem Informação   \n",
       "...                     ...                 ...               ...   \n",
       "272258       Rio de Janeiro      Sem Informação    Sem Informação   \n",
       "272259            São Paulo      Sem Informação    Sem Informação   \n",
       "272260       Rio de Janeiro      Sem Informação    Sem Informação   \n",
       "272261       Belo Horizonte      Sem Informação    Sem Informação   \n",
       "272262             Brasília      Sem Informação    Sem Informação   \n",
       "\n",
       "       Cidade - Origem volta Pais - Destino volta UF - Destino volta  \\\n",
       "0             Sem Informação       Sem Informação     Sem Informação   \n",
       "1             Sem Informação       Sem Informação     Sem Informação   \n",
       "2             Sem Informação       Sem Informação     Sem Informação   \n",
       "3             Sem Informação       Sem Informação     Sem Informação   \n",
       "4             Sem Informação       Sem Informação     Sem Informação   \n",
       "...                      ...                  ...                ...   \n",
       "272258        Sem Informação       Sem Informação     Sem Informação   \n",
       "272259        Sem Informação       Sem Informação     Sem Informação   \n",
       "272260        Sem Informação       Sem Informação     Sem Informação   \n",
       "272261        Sem Informação       Sem Informação     Sem Informação   \n",
       "272262        Sem Informação       Sem Informação     Sem Informação   \n",
       "\n",
       "       Cidade - Destino volta Valor da passagem Taxa de serviço  \\\n",
       "0              Sem Informação           1144,24            0,00   \n",
       "1              Sem Informação           1529,86            0,00   \n",
       "2              Sem Informação           1753,24            0,00   \n",
       "3              Sem Informação           2491,86            0,00   \n",
       "4              Sem Informação           2491,86            0,00   \n",
       "...                       ...               ...             ...   \n",
       "272258         Sem Informação           1589,46            0,00   \n",
       "272259         Sem Informação           2946,83            0,00   \n",
       "272260         Sem Informação           2946,83            0,00   \n",
       "272261         Sem Informação            539,46            0,00   \n",
       "272262         Sem Informação           1292,33            0,00   \n",
       "\n",
       "       Data da emissão/compra Hora da emissão/compra  \n",
       "0                  20/12/2021                  18:27  \n",
       "1                  20/12/2021                  18:27  \n",
       "2                  02/09/2021                  11:01  \n",
       "3                  02/09/2021                  11:01  \n",
       "4                  02/09/2021                  10:58  \n",
       "...                       ...                    ...  \n",
       "272258                    NaN                  00:00  \n",
       "272259                    NaN                  00:00  \n",
       "272260                    NaN                  00:00  \n",
       "272261                    NaN                  00:00  \n",
       "272262                    NaN                  00:00  \n",
       "\n",
       "[272263 rows x 19 columns]"
      ]
     },
     "execution_count": 30,
     "metadata": {},
     "output_type": "execute_result"
    }
   ],
   "source": [
    "# Carregar o CSV\n",
    "df = pd.read_csv('2022_Passagem.csv',sep = ';', encoding= 'latin1')\n",
    "df"
   ]
  },
  {
   "cell_type": "code",
   "execution_count": 31,
   "id": "b12ff539",
   "metadata": {},
   "outputs": [
    {
     "name": "stdout",
     "output_type": "stream",
     "text": [
      "<class 'pandas.core.frame.DataFrame'>\n",
      "RangeIndex: 272263 entries, 0 to 272262\n",
      "Data columns (total 19 columns):\n",
      " #   Column                               Non-Null Count   Dtype \n",
      "---  ------                               --------------   ----- \n",
      " 0   Identificador do processo de viagem  272263 non-null  int64 \n",
      " 1   Número da Proposta (PCDP)            272263 non-null  object\n",
      " 2   Meio de transporte                   272263 non-null  object\n",
      " 3   País - Origem ida                    272263 non-null  object\n",
      " 4   UF - Origem ida                      263571 non-null  object\n",
      " 5   Cidade - Origem ida                  272263 non-null  object\n",
      " 6   País - Destino ida                   272263 non-null  object\n",
      " 7   UF - Destino ida                     261092 non-null  object\n",
      " 8   Cidade - Destino ida                 272263 non-null  object\n",
      " 9   País - Origem volta                  272263 non-null  object\n",
      " 10  UF - Origem volta                    269318 non-null  object\n",
      " 11  Cidade - Origem volta                272263 non-null  object\n",
      " 12  Pais - Destino volta                 272263 non-null  object\n",
      " 13  UF - Destino volta                   271665 non-null  object\n",
      " 14  Cidade - Destino volta               272263 non-null  object\n",
      " 15  Valor da passagem                    272263 non-null  object\n",
      " 16  Taxa de serviço                      272263 non-null  object\n",
      " 17  Data da emissão/compra               271090 non-null  object\n",
      " 18  Hora da emissão/compra               272263 non-null  object\n",
      "dtypes: int64(1), object(18)\n",
      "memory usage: 39.5+ MB\n"
     ]
    }
   ],
   "source": [
    "# Informações das colunas\n",
    "df.info()"
   ]
  },
  {
   "cell_type": "code",
   "execution_count": 32,
   "id": "0c84e9c1",
   "metadata": {},
   "outputs": [],
   "source": [
    "# Substituir a vírgula pelo ponto na coluna 'Valor Passagem'\n",
    "df['Valor da passagem'] = df['Valor da passagem'].apply(lambda x: float(x.split()[0].replace(',', '.')))"
   ]
  },
  {
   "cell_type": "code",
   "execution_count": 33,
   "id": "1c8dc8eb",
   "metadata": {},
   "outputs": [],
   "source": [
    "# Deletar as colunas que não iremos utilizar\n",
    "del df['Data da emissão/compra']\n",
    "del df['Hora da emissão/compra']\n",
    "del df['Taxa de serviço']\n",
    "del df['País - Origem volta']\n",
    "del df['Cidade - Origem volta']\n",
    "del df['Pais - Destino volta']\n",
    "del df['UF - Destino volta']\n",
    "del df['Cidade - Destino volta']"
   ]
  },
  {
   "cell_type": "code",
   "execution_count": 34,
   "id": "c05672cf",
   "metadata": {},
   "outputs": [
    {
     "data": {
      "text/plain": [
       "(272263, 11)"
      ]
     },
     "execution_count": 34,
     "metadata": {},
     "output_type": "execute_result"
    }
   ],
   "source": [
    "# Tamanho do dataframe\n",
    "df.shape"
   ]
  },
  {
   "cell_type": "markdown",
   "id": "cc7d4299",
   "metadata": {},
   "source": [
    "### Gráficos"
   ]
  },
  {
   "cell_type": "code",
   "execution_count": 35,
   "id": "6d208dae",
   "metadata": {
    "scrolled": true
   },
   "outputs": [
    {
     "data": {
      "text/plain": [
       "Meio de transporte\n",
       "Aéreo         264923\n",
       "Fluvial          960\n",
       "Rodoviário      6380\n",
       "dtype: int64"
      ]
     },
     "execution_count": 35,
     "metadata": {},
     "output_type": "execute_result"
    }
   ],
   "source": [
    "# Agrupar o Meio de Transporte\n",
    "agrupado = df.groupby(['Meio de transporte']).size()\n",
    "agrupado"
   ]
  },
  {
   "cell_type": "code",
   "execution_count": 36,
   "id": "4f251f28",
   "metadata": {},
   "outputs": [
    {
     "data": {
      "text/plain": [
       "<AxesSubplot:xlabel='Meio de transporte'>"
      ]
     },
     "execution_count": 36,
     "metadata": {},
     "output_type": "execute_result"
    },
    {
     "data": {
      "image/png": "[encoded data removed]",
      "text/plain": [
       "<Figure size 640x480 with 1 Axes>"
      ]
     },
     "metadata": {},
     "output_type": "display_data"
    }
   ],
   "source": [
    "# Gráfico\n",
    "agrupado.plot.bar(sns.color_palette())"
   ]
  },
  {
   "cell_type": "code",
   "execution_count": 37,
   "id": "2bbc8a8d",
   "metadata": {
    "scrolled": true
   },
   "outputs": [
    {
     "data": {
      "text/plain": [
       "UF - Origem ida\n",
       "Rio de Janeiro      27862\n",
       "São Paulo           28180\n",
       "Distrito Federal    69143\n",
       "dtype: int64"
      ]
     },
     "execution_count": 37,
     "metadata": {},
     "output_type": "execute_result"
    }
   ],
   "source": [
    "# Agrupar pela UF - Origem Ida\n",
    "agrupado = df.groupby(['UF - Origem ida']).size().sort_values().tail(3)\n",
    "agrupado"
   ]
  },
  {
   "cell_type": "code",
   "execution_count": 38,
   "id": "8727f98b",
   "metadata": {
    "scrolled": false
   },
   "outputs": [
    {
     "data": {
      "text/plain": [
       "[Text(0.5, 1.0, 'Principais Destinos (UF)')]"
      ]
     },
     "execution_count": 38,
     "metadata": {},
     "output_type": "execute_result"
    },
    {
     "data": {
      "image/png": "[encoded data removed]",
      "text/plain": [
       "<Figure size 640x480 with 1 Axes>"
      ]
     },
     "metadata": {},
     "output_type": "display_data"
    }
   ],
   "source": [
    "# Gráfico Destinos\n",
    "agrupado.plot.bar(sns.color_palette()).set(title='Principais Destinos (UF)')"
   ]
  },
  {
   "cell_type": "code",
   "execution_count": 39,
   "id": "2983dce9",
   "metadata": {},
   "outputs": [
    {
     "data": {
      "text/plain": [
       "UF - Destino ida\n",
       "Rio de Janeiro      26549\n",
       "São Paulo           29365\n",
       "Distrito Federal    68504\n",
       "dtype: int64"
      ]
     },
     "execution_count": 39,
     "metadata": {},
     "output_type": "execute_result"
    }
   ],
   "source": [
    "# Agrupar pela UF - Destino Ida\n",
    "agrupado = df.groupby(['UF - Destino ida']).size().sort_values().tail(3)\n",
    "agrupado"
   ]
  },
  {
   "cell_type": "code",
   "execution_count": 40,
   "id": "55cda4ac",
   "metadata": {
    "scrolled": false
   },
   "outputs": [
    {
     "data": {
      "text/plain": [
       "[Text(0.5, 1.0, 'Destinos Mais Comuns')]"
      ]
     },
     "execution_count": 40,
     "metadata": {},
     "output_type": "execute_result"
    },
    {
     "data": {
      "image/png": "[encoded data removed]",
      "text/plain": [
       "<Figure size 640x480 with 1 Axes>"
      ]
     },
     "metadata": {},
     "output_type": "display_data"
    }
   ],
   "source": [
    "# Gráfico Destino Ida\n",
    "agrupado.plot.bar(sns.color_palette()).set(title='Destinos Mais Comuns')"
   ]
  },
  {
   "cell_type": "code",
   "execution_count": 41,
   "id": "0778551b",
   "metadata": {
    "scrolled": false
   },
   "outputs": [
    {
     "data": {
      "text/plain": [
       "<AxesSubplot:xlabel='Valor da passagem', ylabel='Count'>"
      ]
     },
     "execution_count": 41,
     "metadata": {},
     "output_type": "execute_result"
    },
    {
     "data": {
      "image/png": "[encoded data removed]",
      "text/plain": [
       "<Figure size 640x480 with 1 Axes>"
      ]
     },
     "metadata": {},
     "output_type": "display_data"
    }
   ],
   "source": [
    "# Histograma do Valor Passagem\n",
    "sns.histplot(df[\"Valor da passagem\"])"
   ]
  },
  {
   "cell_type": "code",
   "execution_count": 42,
   "id": "6a801b69",
   "metadata": {
    "scrolled": false
   },
   "outputs": [
    {
     "data": {
      "text/plain": [
       "<AxesSubplot:xlabel='Valor da passagem', ylabel='Count'>"
      ]
     },
     "execution_count": 42,
     "metadata": {},
     "output_type": "execute_result"
    },
    {
     "data": {
      "image/png": "[encoded data removed]",
      "text/plain": [
       "<Figure size 640x480 with 1 Axes>"
      ]
     },
     "metadata": {},
     "output_type": "display_data"
    }
   ],
   "source": [
    "# Filtrar o histograma sem outliers\n",
    "df_filter = df[df[\"Valor da passagem\"] < df[\"Valor da passagem\"].quantile(.95)]\n",
    "\n",
    "sns.histplot(df_filter['Valor da passagem'])"
   ]
  },
  {
   "cell_type": "code",
   "execution_count": 43,
   "id": "6965f166",
   "metadata": {},
   "outputs": [
    {
     "data": {
      "text/html": [
       "<div>\n",
       "<style scoped>\n",
       "    .dataframe tbody tr th:only-of-type {\n",
       "        vertical-align: middle;\n",
       "    }\n",
       "\n",
       "    .dataframe tbody tr th {\n",
       "        vertical-align: top;\n",
       "    }\n",
       "\n",
       "    .dataframe thead th {\n",
       "        text-align: right;\n",
       "    }\n",
       "</style>\n",
       "<table border=\"1\" class=\"dataframe\">\n",
       "  <thead>\n",
       "    <tr style=\"text-align: right;\">\n",
       "      <th></th>\n",
       "      <th>Valor da passagem</th>\n",
       "    </tr>\n",
       "  </thead>\n",
       "  <tbody>\n",
       "    <tr>\n",
       "      <th>count</th>\n",
       "      <td>258649.000000</td>\n",
       "    </tr>\n",
       "    <tr>\n",
       "      <th>mean</th>\n",
       "      <td>1418.155216</td>\n",
       "    </tr>\n",
       "    <tr>\n",
       "      <th>std</th>\n",
       "      <td>826.239905</td>\n",
       "    </tr>\n",
       "    <tr>\n",
       "      <th>min</th>\n",
       "      <td>-0.860000</td>\n",
       "    </tr>\n",
       "    <tr>\n",
       "      <th>25%</th>\n",
       "      <td>802.470000</td>\n",
       "    </tr>\n",
       "    <tr>\n",
       "      <th>50%</th>\n",
       "      <td>1255.230000</td>\n",
       "    </tr>\n",
       "    <tr>\n",
       "      <th>75%</th>\n",
       "      <td>1915.930000</td>\n",
       "    </tr>\n",
       "    <tr>\n",
       "      <th>max</th>\n",
       "      <td>4221.330000</td>\n",
       "    </tr>\n",
       "  </tbody>\n",
       "</table>\n",
       "</div>"
      ],
      "text/plain": [
       "       Valor da passagem\n",
       "count      258649.000000\n",
       "mean         1418.155216\n",
       "std           826.239905\n",
       "min            -0.860000\n",
       "25%           802.470000\n",
       "50%          1255.230000\n",
       "75%          1915.930000\n",
       "max          4221.330000"
      ]
     },
     "execution_count": 43,
     "metadata": {},
     "output_type": "execute_result"
    }
   ],
   "source": [
    "# Estatísticas dos valores filtrados\n",
    "df_filter[['Valor da passagem']].describe()"
   ]
  },
  {
   "cell_type": "code",
   "execution_count": 44,
   "id": "438cd342",
   "metadata": {
    "scrolled": true
   },
   "outputs": [
    {
     "data": {
      "text/html": [
       "<div>\n",
       "<style scoped>\n",
       "    .dataframe tbody tr th:only-of-type {\n",
       "        vertical-align: middle;\n",
       "    }\n",
       "\n",
       "    .dataframe tbody tr th {\n",
       "        vertical-align: top;\n",
       "    }\n",
       "\n",
       "    .dataframe thead th {\n",
       "        text-align: right;\n",
       "    }\n",
       "</style>\n",
       "<table border=\"1\" class=\"dataframe\">\n",
       "  <thead>\n",
       "    <tr style=\"text-align: right;\">\n",
       "      <th></th>\n",
       "      <th>Valor da passagem</th>\n",
       "    </tr>\n",
       "  </thead>\n",
       "  <tbody>\n",
       "    <tr>\n",
       "      <th>count</th>\n",
       "      <td>13614.000000</td>\n",
       "    </tr>\n",
       "    <tr>\n",
       "      <th>mean</th>\n",
       "      <td>8845.135468</td>\n",
       "    </tr>\n",
       "    <tr>\n",
       "      <th>std</th>\n",
       "      <td>5989.175659</td>\n",
       "    </tr>\n",
       "    <tr>\n",
       "      <th>min</th>\n",
       "      <td>4221.920000</td>\n",
       "    </tr>\n",
       "    <tr>\n",
       "      <th>25%</th>\n",
       "      <td>5124.310000</td>\n",
       "    </tr>\n",
       "    <tr>\n",
       "      <th>50%</th>\n",
       "      <td>6793.430000</td>\n",
       "    </tr>\n",
       "    <tr>\n",
       "      <th>75%</th>\n",
       "      <td>10445.462500</td>\n",
       "    </tr>\n",
       "    <tr>\n",
       "      <th>max</th>\n",
       "      <td>100353.470000</td>\n",
       "    </tr>\n",
       "  </tbody>\n",
       "</table>\n",
       "</div>"
      ],
      "text/plain": [
       "       Valor da passagem\n",
       "count       13614.000000\n",
       "mean         8845.135468\n",
       "std          5989.175659\n",
       "min          4221.920000\n",
       "25%          5124.310000\n",
       "50%          6793.430000\n",
       "75%         10445.462500\n",
       "max        100353.470000"
      ]
     },
     "execution_count": 44,
     "metadata": {},
     "output_type": "execute_result"
    }
   ],
   "source": [
    "# Estatísticas dos outliers\n",
    "df_outliers = df[df[\"Valor da passagem\"] >= df[\"Valor da passagem\"].quantile(.95)]\n",
    "\n",
    "df_outliers[['Valor da passagem']].describe()"
   ]
  },
  {
   "cell_type": "code",
   "execution_count": 47,
   "id": "36504cbb",
   "metadata": {
    "scrolled": true
   },
   "outputs": [
    {
     "data": {
      "text/plain": [
       "11175"
      ]
     },
     "execution_count": 47,
     "metadata": {},
     "output_type": "execute_result"
    }
   ],
   "source": [
    "# Retirar o Brasil do dataframe\n",
    "indexNames = df[ df['País - Destino ida'] == 'Brasil'].index\n",
    "\n",
    "df.drop(indexNames , inplace=True)\n",
    "agrupado = df.groupby(['País - Destino ida']).size().sort_values().sum()\n",
    "agrupado"
   ]
  },
  {
   "cell_type": "code",
   "execution_count": 48,
   "id": "4bd3b697",
   "metadata": {},
   "outputs": [
    {
     "data": {
      "text/plain": [
       "País - Destino ida\n",
       "Espanha                       444\n",
       "Argentina                     458\n",
       "França                        539\n",
       "Portugal                      868\n",
       "Estados Unidos da América    2289\n",
       "dtype: int64"
      ]
     },
     "execution_count": 48,
     "metadata": {},
     "output_type": "execute_result"
    }
   ],
   "source": [
    "# Agrupar pelos Países\n",
    "agrupado = df.groupby(['País - Destino ida']).size().sort_values().tail()\n",
    "agrupado"
   ]
  },
  {
   "cell_type": "code",
   "execution_count": 49,
   "id": "aabdd52f",
   "metadata": {
    "scrolled": true
   },
   "outputs": [
    {
     "data": {
      "text/plain": [
       "[Text(0.5, 1.0, 'Viagens pro Exterior')]"
      ]
     },
     "execution_count": 49,
     "metadata": {},
     "output_type": "execute_result"
    },
    {
     "data": {
      "image/png": "[encoded data removed]",
      "text/plain": [
       "<Figure size 640x480 with 1 Axes>"
      ]
     },
     "metadata": {},
     "output_type": "display_data"
    }
   ],
   "source": [
    "# Gráfico Países\n",
    "grupado.plot.bar(sns.color_palette()).set(title='Viagens pro Exterior')"
   ]
  },
  {
   "cell_type": "code",
   "execution_count": null,
   "id": "dd30cda1",
   "metadata": {},
   "outputs": [],
   "source": []
  },
  {
   "cell_type": "code",
   "execution_count": null,
   "id": "4a74e323",
   "metadata": {},
   "outputs": [],
   "source": []
  }
 ],
 "metadata": {
  "kernelspec": {
   "display_name": "Python 3 (ipykernel)",
   "language": "python",
   "name": "python3"
  },
  "language_info": {
   "codemirror_mode": {
    "name": "ipython",
    "version": 3
   },
   "file_extension": ".py",
   "mimetype": "text/x-python",
   "name": "python",
   "nbconvert_exporter": "python",
   "pygments_lexer": "ipython3",
   "version": "3.9.13"
  }
 },
 "nbformat": 4,
 "nbformat_minor": 5
}
